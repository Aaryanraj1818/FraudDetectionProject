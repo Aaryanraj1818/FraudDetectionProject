{
 "cells": [
  {
   "cell_type": "markdown",
   "id": "2260991e",
   "metadata": {},
   "source": [
    "# 📊 Fraud Detection – INSAID Internship Project"
   ]
  },
  {
   "cell_type": "markdown",
   "id": "bbc904ab",
   "metadata": {},
   "source": [
    "This notebook contains the step-by-step approach for detecting fraudulent transactions using machine learning."
   ]
  },
  {
   "cell_type": "code",
   "execution_count": null,
   "id": "32925c11",
   "metadata": {},
   "outputs": [],
   "source": [
    "# 1. Import Required Libraries\n",
    "import pandas as pd\n",
    "import numpy as np\n",
    "import seaborn as sns\n",
    "import matplotlib.pyplot as plt\n",
    "\n",
    "from sklearn.model_selection import train_test_split\n",
    "from sklearn.ensemble import RandomForestClassifier\n",
    "from sklearn.linear_model import LogisticRegression\n",
    "from sklearn.metrics import classification_report, confusion_matrix, roc_auc_score, roc_curve\n",
    "from sklearn.preprocessing import StandardScaler\n",
    "from imblearn.over_sampling import SMOTE\n",
    "from statsmodels.stats.outliers_influence import variance_inflation_factor\n",
    "\n",
    "import warnings\n",
    "warnings.filterwarnings('ignore')"
   ]
  },
  {
   "cell_type": "code",
   "execution_count": null,
   "id": "395be77f",
   "metadata": {},
   "outputs": [],
   "source": [
    "# 2. Load Dataset (update path if needed)\n",
    "# Example: Load only a sample (100,000 rows) for testing\n",
    "df = pd.read_csv(\"fraud_dataset.csv\", nrows=100000)\n",
    "df.head()"
   ]
  },
  {
   "cell_type": "code",
   "execution_count": null,
   "id": "bbea539f",
   "metadata": {},
   "outputs": [],
   "source": [
    "# 3. Data Overview\n",
    "print(df.shape)\n",
    "print(df.info())\n",
    "print(df.describe())"
   ]
  },
  {
   "cell_type": "code",
   "execution_count": null,
   "id": "4734dbba",
   "metadata": {},
   "outputs": [],
   "source": [
    "# 4. Check for Missing Values\n",
    "df.isnull().sum()"
   ]
  },
  {
   "cell_type": "code",
   "execution_count": null,
   "id": "936fac94",
   "metadata": {},
   "outputs": [],
   "source": [
    "# 5. Correlation Heatmap\n",
    "plt.figure(figsize=(12, 8))\n",
    "sns.heatmap(df.corr(), annot=True, cmap='coolwarm')"
   ]
  },
  {
   "cell_type": "code",
   "execution_count": null,
   "id": "dfd96d54",
   "metadata": {},
   "outputs": [],
   "source": [
    "# 6. Handle Class Imbalance (SMOTE)\n",
    "X = df.drop('is_fraud', axis=1)\n",
    "y = df['is_fraud']\n",
    "\n",
    "X_train, X_test, y_train, y_test = train_test_split(X, y, test_size=0.2, stratify=y, random_state=42)\n",
    "\n",
    "sm = SMOTE(random_state=42)\n",
    "X_train_res, y_train_res = sm.fit_resample(X_train, y_train)"
   ]
  },
  {
   "cell_type": "code",
   "execution_count": null,
   "id": "3051f53d",
   "metadata": {},
   "outputs": [],
   "source": [
    "# 7. Train Random Forest Model\n",
    "model = RandomForestClassifier(random_state=42)\n",
    "model.fit(X_train_res, y_train_res)\n",
    "\n",
    "y_pred = model.predict(X_test)"
   ]
  },
  {
   "cell_type": "code",
   "execution_count": null,
   "id": "87b16839",
   "metadata": {},
   "outputs": [],
   "source": [
    "# 8. Evaluation Metrics\n",
    "print(confusion_matrix(y_test, y_pred))\n",
    "print(classification_report(y_test, y_pred))\n",
    "print(\"ROC AUC Score:\", roc_auc_score(y_test, model.predict_proba(X_test)[:, 1]))"
   ]
  },
  {
   "cell_type": "code",
   "execution_count": null,
   "id": "0192b9d0",
   "metadata": {},
   "outputs": [],
   "source": [
    "# 9. ROC Curve\n",
    "fpr, tpr, _ = roc_curve(y_test, model.predict_proba(X_test)[:, 1])\n",
    "plt.plot(fpr, tpr)\n",
    "plt.xlabel(\"False Positive Rate\")\n",
    "plt.ylabel(\"True Positive Rate\")\n",
    "plt.title(\"ROC Curve\")"
   ]
  },
  {
   "cell_type": "code",
   "execution_count": null,
   "id": "381b056c",
   "metadata": {},
   "outputs": [],
   "source": [
    "# 10. Feature Importance\n",
    "importances = model.feature_importances_\n",
    "features = pd.Series(importances, index=X.columns)\n",
    "features.nlargest(10).plot(kind='barh')\n",
    "plt.title(\"Top 10 Important Features\")"
   ]
  },
  {
   "cell_type": "markdown",
   "id": "24ac5c26",
   "metadata": {},
   "source": [
    "## ✅ Done! Now analyze key features, suggest prevention, and define post-implementation monitoring in Markdown cells."
   ]
  }
 ],
 "metadata": {},
 "nbformat": 4,
 "nbformat_minor": 5
}
