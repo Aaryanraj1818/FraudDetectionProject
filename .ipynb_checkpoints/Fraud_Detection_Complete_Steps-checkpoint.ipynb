{
 "cells": [
  {
   "cell_type": "markdown",
   "id": "0fcf03d2",
   "metadata": {},
   "source": [
    "# Fraud Detection Case Study\n",
    "\n",
    "This notebook walks through the end-to-end process of building a fraud detection model."
   ]
  },
  {
   "cell_type": "markdown",
   "id": "2b15a451",
   "metadata": {},
   "source": [
    "## Step 1: Load the Dataset"
   ]
  },
  {
   "cell_type": "code",
   "execution_count": null,
   "id": "890c9b8c",
   "metadata": {},
   "outputs": [],
   "source": [
    "import pandas as pd\n",
    "import numpy as np\n",
    "import matplotlib.pyplot as plt\n",
    "import seaborn as sns\n",
    "\n",
    "# Load the data\n",
    "file_path = 'Fraud.csv'  # Ensure this file is in your working directory\n",
    "df = pd.read_csv(file_path)\n",
    "\n",
    "# Basic exploration\n",
    "print(\"Dataset Shape:\", df.shape)\n",
    "df.head()"
   ]
  },
  {
   "cell_type": "markdown",
   "id": "8b2f37df",
   "metadata": {},
   "source": [
    "## Step 2: Data Overview and Cleaning"
   ]
  },
  {
   "cell_type": "code",
   "execution_count": null,
   "id": "f9efb3ce",
   "metadata": {},
   "outputs": [],
   "source": [
    "print(df.info())\n",
    "print(df.describe())\n",
    "print(df.isnull().sum())"
   ]
  },
  {
   "cell_type": "markdown",
   "id": "cd243e5b",
   "metadata": {},
   "source": [
    "## Step 3: Class Balance and Target Analysis"
   ]
  },
  {
   "cell_type": "code",
   "execution_count": null,
   "id": "5c4e8aaa",
   "metadata": {},
   "outputs": [],
   "source": [
    "print(df['isFraud'].value_counts())\n",
    "sns.countplot(x='isFraud', data=df)\n",
    "plt.title('Fraud vs Non-Fraud Count')\n",
    "plt.show()"
   ]
  },
  {
   "cell_type": "markdown",
   "id": "ffb54856",
   "metadata": {},
   "source": [
    "## Step 4: Feature Engineering"
   ]
  },
  {
   "cell_type": "code",
   "execution_count": null,
   "id": "9c369167",
   "metadata": {},
   "outputs": [],
   "source": [
    "df = pd.get_dummies(df, columns=['type'], drop_first=True)\n",
    "df['errorBalanceOrig'] = df['newbalanceOrig'] + df['amount'] - df['oldbalanceOrg']\n",
    "df['errorBalanceDest'] = df['oldbalanceDest'] + df['amount'] - df['newbalanceDest']"
   ]
  },
  {
   "cell_type": "markdown",
   "id": "02e1cb8b",
   "metadata": {},
   "source": [
    "## Step 5: Data Preparation"
   ]
  },
  {
   "cell_type": "code",
   "execution_count": null,
   "id": "95c7e67e",
   "metadata": {},
   "outputs": [],
   "source": [
    "X = df.drop(['isFraud', 'isFlaggedFraud', 'nameOrig', 'nameDest'], axis=1)\n",
    "y = df['isFraud']"
   ]
  },
  {
   "cell_type": "markdown",
   "id": "12f0b90a",
   "metadata": {},
   "source": [
    "## Step 6: Train/Test Split"
   ]
  },
  {
   "cell_type": "code",
   "execution_count": null,
   "id": "14088e5e",
   "metadata": {},
   "outputs": [],
   "source": [
    "from sklearn.model_selection import train_test_split\n",
    "\n",
    "X_train, X_test, y_train, y_test = train_test_split(X, y, test_size=0.2, random_state=42, stratify=y)"
   ]
  },
  {
   "cell_type": "markdown",
   "id": "7338c51b",
   "metadata": {},
   "source": [
    "## Step 7: Train Random Forest Classifier"
   ]
  },
  {
   "cell_type": "code",
   "execution_count": null,
   "id": "5d5f4f63",
   "metadata": {},
   "outputs": [],
   "source": [
    "from sklearn.ensemble import RandomForestClassifier\n",
    "\n",
    "model = RandomForestClassifier(n_estimators=100, class_weight='balanced', random_state=42)\n",
    "model.fit(X_train, y_train)"
   ]
  },
  {
   "cell_type": "markdown",
   "id": "0b337dc9",
   "metadata": {},
   "source": [
    "## Step 8: Model Evaluation"
   ]
  },
  {
   "cell_type": "code",
   "execution_count": null,
   "id": "01a87dba",
   "metadata": {},
   "outputs": [],
   "source": [
    "from sklearn.metrics import classification_report, confusion_matrix, roc_auc_score\n",
    "\n",
    "y_pred = model.predict(X_test)\n",
    "print(\"Confusion Matrix:\\n\", confusion_matrix(y_test, y_pred))\n",
    "print(\"Classification Report:\\n\", classification_report(y_test, y_pred))\n",
    "probs = model.predict_proba(X_test)[:, 1]\n",
    "print(\"ROC AUC Score:\", roc_auc_score(y_test, probs))"
   ]
  },
  {
   "cell_type": "markdown",
   "id": "1ae9b0ba",
   "metadata": {},
   "source": [
    "## Step 9: Feature Importance"
   ]
  },
  {
   "cell_type": "code",
   "execution_count": null,
   "id": "22bb7196",
   "metadata": {},
   "outputs": [],
   "source": [
    "importances = model.feature_importances_\n",
    "feat_names = X.columns\n",
    "feat_imp = pd.Series(importances, index=feat_names).sort_values(ascending=False)\n",
    "\n",
    "plt.figure(figsize=(10,6))\n",
    "sns.barplot(x=feat_imp[:10], y=feat_imp.index[:10])\n",
    "plt.title('Top 10 Important Features')\n",
    "plt.show()"
   ]
  },
  {
   "cell_type": "markdown",
   "id": "81382236",
   "metadata": {},
   "source": [
    "## Summary\n",
    "- Built a Random Forest model with balanced class weighting.\n",
    "- Evaluated with classification report and AUC.\n",
    "- Derived insights from top predictive features."
   ]
  }
 ],
 "metadata": {},
 "nbformat": 4,
 "nbformat_minor": 5
}
